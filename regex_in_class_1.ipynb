{
 "cells": [
  {
   "cell_type": "code",
   "execution_count": 3,
   "id": "ddc2f887",
   "metadata": {},
   "outputs": [
    {
     "name": "stdout",
     "output_type": "stream",
     "text": [
      "['10909090', '1', '2']\n"
     ]
    }
   ],
   "source": [
    "#In class homework 1\n",
    "import re\n",
    "\n",
    "my_string = \"This string has 10909090 numbers, but only 1 string. I hope you solve this 2day.\"\n",
    "\n",
    "nums = re.compile('[0-9]+')\n",
    "find_nums = nums.findall(my_string)\n",
    "print(find_nums)"
   ]
  },
  {
   "cell_type": "code",
   "execution_count": 1,
   "id": "d3a2d37c",
   "metadata": {},
   "outputs": [
    {
     "name": "stdout",
     "output_type": "stream",
     "text": [
      "None\n",
      "pocohontas1776@gmail.com\n",
      "None\n",
      "yourfavoriteband@g6.org\n",
      "None\n"
     ]
    }
   ],
   "source": [
    "#In class homework 2\n",
    "import re\n",
    "\n",
    "valid_emails = re.compile('[a-zA-Z0-9]+@[a-zA-Z0-9]+(.com|.org)$')\n",
    "emails = [\"jordanw@codingtemple.orgcom\", \"pocohontas1776@gmail.com\", 'helloworld@aol..com', 'yourfavoriteband@g6.org', '@codingtemple.com']\n",
    "\n",
    "def check_emails(email_list):\n",
    "    for email in emails:\n",
    "        match = valid_emails.search(email)\n",
    "        if match:\n",
    "            print(email)\n",
    "        else:\n",
    "            print(None)\n",
    "            \n",
    "check_emails(emails)"
   ]
  },
  {
   "cell_type": "code",
   "execution_count": 1,
   "id": "4b3929d9",
   "metadata": {},
   "outputs": [
    {
     "name": "stdout",
     "output_type": "stream",
     "text": [
      " Derek Hawkins // @derekhawkins\n",
      " Sven-Erik Osterberg // @sverik\n",
      " Ryan Butz // @ryanbutz\n",
      " Example Exampleson // @example\n",
      " Ripal Pael // @ripalp\n",
      " Darth Vader // @darthvader\n"
     ]
    }
   ],
   "source": [
    "#In class homework 3\n",
    "import re\n",
    "f = open(\"names.txt\")\n",
    "data = f.read()\n",
    "for entry in data.splitlines():\n",
    "    name_match = re.match('[A-Z][a-z]+, [A-Z][a-z]+-?[A-Z]?[a-z]{0,10}', entry)# ?,?, {0,10} added for hyphenated name\n",
    "    twitter_match = re.findall('\\s@[a-z]+', entry) #evaluates to list\n",
    "    if name_match and twitter_match:\n",
    "        span = name_match.span() #evalates to tuple\n",
    "        name = entry[span[0]:span[1]].split(\",\") #evaluates to list\n",
    "        print(f\"{name[1]} {name[0]} // {twitter_match[0].strip()}\")"
   ]
  },
  {
   "cell_type": "code",
   "execution_count": 9,
   "id": "b04fb51d",
   "metadata": {},
   "outputs": [
    {
     "name": "stdout",
     "output_type": "stream",
     "text": [
      "Abraham Lincoln\n",
      "Andrew P Garfield\n",
      "Connor Milliken\n",
      "Jordan Alexander Williams\n",
      "None\n",
      "None\n"
     ]
    }
   ],
   "source": [
    "#Regex project\n",
    "import re\n",
    "f = open(\"regex_text.txt\")\n",
    "data = f.read()\n",
    "name = re.compile('[A-Z][a-z]+ [A-Z]?[a-z]{0,10} [A-Z][a-z]+|[A-Z][a-z]+ [A-Z][a-z]+')\n",
    "\n",
    "for entry in data.splitlines():\n",
    "    title_name = name.findall(entry)\n",
    "    if title_name:\n",
    "        print(entry)\n",
    "    else:\n",
    "        print(\"None\")"
   ]
  }
 ],
 "metadata": {
  "kernelspec": {
   "display_name": "Python 3 (ipykernel)",
   "language": "python",
   "name": "python3"
  },
  "language_info": {
   "codemirror_mode": {
    "name": "ipython",
    "version": 3
   },
   "file_extension": ".py",
   "mimetype": "text/x-python",
   "name": "python",
   "nbconvert_exporter": "python",
   "pygments_lexer": "ipython3",
   "version": "3.9.12"
  }
 },
 "nbformat": 4,
 "nbformat_minor": 5
}
